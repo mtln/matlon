{
 "cells": [
  {
   "cell_type": "markdown",
   "metadata": {},
   "source": [
    "# Model\n",
    "\n",
    "> As a developer, I like the idea of literate/explorative programming. This is why I decided to use `nbdev` to create the matlon website, using a simple graph structure.  "
   ]
  },
  {
   "cell_type": "code",
   "execution_count": null,
   "metadata": {},
   "outputs": [],
   "source": [
    "#| default_exp model"
   ]
  },
  {
   "cell_type": "code",
   "execution_count": null,
   "metadata": {},
   "outputs": [],
   "source": [
    "#| hide\n",
    "from nbdev.showdoc import *\n",
    "from fastcore.test import *\n",
    "from IPython.display import Markdown"
   ]
  },
  {
   "cell_type": "code",
   "execution_count": null,
   "metadata": {},
   "outputs": [],
   "source": [
    "#| export\n",
    "from typing import ForwardRef\n",
    "from pydantic import BaseModel\n",
    "from pathlib import Path\n",
    "import json\n",
    "import os"
   ]
  },
  {
   "cell_type": "code",
   "execution_count": null,
   "metadata": {},
   "outputs": [],
   "source": [
    "#| export\n",
    "Project = ForwardRef('Project')\n",
    "\n",
    "class Project(BaseModel):\n",
    "    \"\"\" Model for a project and the graph of related projects \"\"\"\n",
    "    title: str\n",
    "    year_start: int\n",
    "    year_end: int | None = None\n",
    "    quote: str | None = None\n",
    "    description: str | None = None\n",
    "    related_project_titles: list[str] | None = None\n",
    "    _related_projects: list[Project] | None = None\n",
    "\n",
    "     # create a short_title method that returns method without spaces and without special characters, all in lowercase\n",
    "    def short_title(self):\n",
    "        return self.title.replace(\" \", \"-\").lower()"
   ]
  },
  {
   "cell_type": "code",
   "execution_count": null,
   "metadata": {},
   "outputs": [],
   "source": [
    "#| export\n",
    "def load_projects():\n",
    "    # Load JSON data from projects.json\n",
    "    # check if file nbs/projects.json exists\n",
    "    path_prefix = Path(\"\") if not os.path.exists('nbs/projects.json') else Path(\"nbs\")\n",
    "\n",
    "    with open(path_prefix/'projects.json', 'r', encoding='utf-8') as file:\n",
    "        projects_data = json.load(file)\n",
    "\n",
    "    # Instantiate Project objects\n",
    "    projects = [Project(**data) for data in projects_data]\n",
    "    projects_by_title = {project.title: project for project in projects}\n",
    "\n",
    "    # Connect graph, load markdown files\n",
    "    for project in projects:\n",
    "        # if a file exists with the same name as the project and suffix .md, load it as the description\n",
    "        try:\n",
    "            with open(path_prefix/f'{project.short_title()}.md', 'r', encoding='utf-8') as file:\n",
    "                project.description = file.read()\n",
    "        except FileNotFoundError:\n",
    "            pass\n",
    "        project._related_projects = [projects_by_title[title] for title in project.related_project_titles] if project.related_project_titles else []\n",
    "\n",
    "    return projects"
   ]
  },
  {
   "cell_type": "code",
   "execution_count": null,
   "metadata": {},
   "outputs": [],
   "source": [
    "#| export\n",
    "def projects_to_dot(projects: list[Project]) -> str:\n",
    "    dot = 'graph G {\\n'\n",
    "    for project in projects:\n",
    "        dot += f'\"{project.title}\" [URL=\"andri.html#{project.short_title()}\"]\\n'\n",
    "        for related_project in project._related_projects:\n",
    "            dot += f'\"{project.title}\" -- \"{related_project.title}\"\\n'\n",
    "    dot += '}'\n",
    "    return dot"
   ]
  },
  {
   "cell_type": "code",
   "execution_count": null,
   "metadata": {},
   "outputs": [],
   "source": [
    "#| export\n",
    "def project_to_markdown(project: Project) -> str:\n",
    "    markdown = f'## {project.title}\\n'\n",
    "    year_range = f'{project.year_start} - {project.year_end}' if project.year_end else f'{project.year_start} - '\n",
    "    markdown += f'{year_range}\\n\\n'\n",
    "    if project.quote:\n",
    "        markdown += f'\\n> {project.quote}\\n\\n'\n",
    "    if project.description:\n",
    "        markdown += f'{project.description}\\n\\n'\n",
    "    if project._related_projects:\n",
    "        markdown += '\\n### Related projects\\n'\n",
    "        for related_project in project._related_projects:\n",
    "            markdown += f'- [{related_project.title}](#{related_project.short_title()})\\n'\n",
    "    return markdown"
   ]
  },
  {
   "cell_type": "markdown",
   "metadata": {},
   "source": [
    "run\n",
    "```\n",
    "nbdev_clean --fname ./nbs --clear_all\n",
    "```\n",
    "before commit."
   ]
  },
  {
   "cell_type": "code",
   "execution_count": null,
   "metadata": {},
   "outputs": [],
   "source": [
    "#| hide\n",
    "import nbdev; nbdev.nbdev_export()"
   ]
  },
  {
   "cell_type": "code",
   "execution_count": null,
   "metadata": {},
   "outputs": [],
   "source": []
  },
  {
   "cell_type": "code",
   "execution_count": null,
   "metadata": {},
   "outputs": [],
   "source": []
  }
 ],
 "metadata": {
  "kernelspec": {
   "display_name": "python3",
   "language": "python",
   "name": "python3"
  }
 },
 "nbformat": 4,
 "nbformat_minor": 2
}
