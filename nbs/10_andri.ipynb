{
 "cells": [
  {
   "cell_type": "markdown",
   "metadata": {},
   "source": [
    "# Andri Krämer\n",
    "\n",
    "> Explore the projects I have realized over the years"
   ]
  },
  {
   "cell_type": "code",
   "execution_count": null,
   "metadata": {},
   "outputs": [],
   "source": [
    "#| default_exp andri"
   ]
  },
  {
   "cell_type": "code",
   "execution_count": null,
   "metadata": {},
   "outputs": [
    {
     "name": "stdout",
     "output_type": "stream",
     "text": [
      "The autoreload extension is already loaded. To reload it, use:\n",
      "  %reload_ext autoreload\n"
     ]
    }
   ],
   "source": [
    "#| hide\n",
    "#| echo: false\n",
    "%load_ext autoreload\n",
    "%autoreload 2"
   ]
  },
  {
   "cell_type": "code",
   "execution_count": null,
   "metadata": {},
   "outputs": [],
   "source": [
    "#| hide\n",
    "from nbdev.showdoc import *\n",
    "from IPython.display import Markdown\n",
    "from matlon.model import *\n"
   ]
  },
  {
   "cell_type": "markdown",
   "metadata": {},
   "source": [
    "# Projects"
   ]
  },
  {
   "cell_type": "code",
   "execution_count": null,
   "metadata": {},
   "outputs": [],
   "source": [
    "#| echo: false\n",
    "i = 0\n"
   ]
  },
  {
   "cell_type": "code",
   "execution_count": null,
   "metadata": {},
   "outputs": [],
   "source": [
    "#| echo: false\n",
    "projects = load_projects()"
   ]
  },
  {
   "cell_type": "code",
   "execution_count": null,
   "metadata": {},
   "outputs": [
    {
     "data": {
      "text/markdown": [
       "## PublicSecrets\n",
       "1997 - 2007\n",
       "\n",
       "\n",
       "> The _really_ social network before social networks\n",
       "\n",
       "The World Wide Web was still in its infancy. There was no Google, no PHP, no WordPress, and no Facebook. But there was PublicSecrets—a blend of social networking and productivity platform. I began developing PublicSecrets in 1997 and continued to expand it over the years. It was used by all of my friends and even friends of friends\n",
       "\n",
       "### Features\n",
       "\n",
       "OpenAlbum\n",
       ": Put your photos online. Select from different style templates. Decide whether the album should be public, restricted to PublicSecrets users, restricted to your friends, to a list of friends or private ('secret'). Create slideshows. Get user comments. Add 'order picture' button (for print orders) and even use an album as gift list for weddings or birthdays (add 'I give this to you as a present' button that disappears when somebody has already clicked it). OpenAlbum provides detailed access statistics. \n",
       "\n",
       ": Years later, similar services such as Picasa (acquired by Google in 2004) were launched.\n",
       "\n",
       "Address Book\n",
       ": Add entries and decide which of your friends you want to share each entry with. Duplicates are actively avoided: If you add an address that a friend has already added, you'll gain access to the existing record instead of creating a duplicate. All friends have read and write access to shared records, ensuring that the data remains well-maintained and up-to-date. You’ll never forget a friend's birthday, as PublicSecrets sends you email reminders and displays a list of upcoming birthdays after you log in. Addresses can also be grouped into address lists.\n",
       "\n",
       "Bookmarks\n",
       ": Individual bookmarks / links can be shared and grouped hierarchically. The bookmark check tool reports invalid/outdated bookmarks.\n",
       "\n",
       "Notes\n",
       ": Manage your personal notes.\n",
       "\n",
       "PSMail\n",
       ": PublicSecrets Mail is a webmail client allowing you to create new mail accounts or registering existing (third-party) e-mail accounts. It provides full text search capabilities, shared e-mail accounts, aliases, mailing list management, virus scanning, spam filtering and folders. \n",
       "\n",
       ":  PSMail was available long before Gmail or Yahoo Mail.\n",
       "\n",
       "PSFile\n",
       ": Files can be shared with other PublicSecrets users. All uploads are scanned for viruses. Files can be encrypted using individual passphrases. PSFiles can also be attached to PSMail messages.\n",
       "\n",
       ": The PSFile cloud file store was already available when the word 'cloud' had no other meaning and there was no Google Drive, Dropbox or Microsoft OneDrive.\n",
       "\n",
       "PSEvent\n",
       ": For the legendary Würstli Wednesday events, I built a somewhat sophisticated event management system into PublicSecrets. It works like this: You can define a new event in PS, including a description, date, time, etc. Afterwards, you add items (e.g., beer, potato chips, potato salad) to the event and determine how many participants are needed per item (e.g., potato chips for every 3 participants, potato salad for every 10 participants, etc.).\n",
       "Using the PS address book, you can invite guests and send them an invitation via PSMail. On the event homepage, guests can sign up or opt-out. For events with gadgets, each guest can see which gadgets are currently needed and select which one(s) they would like to bring themselves. All guests can see who has signed up or opted out and who is bringing what.\n",
       "\n",
       "PSAccounting\n",
       ": Create a cash book, assign people from your address book as members and start your shared accounting. Each entry has a date, an amount, a member involved as creditor and one or more involved as debtors. At each moment, any member can see the current total of expenses and debts and how much who would have to pay to whom in order to re-balance the account (pay off all debts with the smallest number of transactions).\n",
       ": This was exactly what later became popular with apps like Splittr - but years before the iPhone was invented.\n",
       "\n",
       "PSDocs\n",
       ": Upload any zipped documentation. It gets unzipped and indexed by the built-in full-text search engine.\n",
       ": The best thing, software develpers could dream of at that time to quickly browse JavaDocs etc.\n",
       "\n",
       "PS GarbageAlert\n",
       ": Reminds you of the waste paper or cardboard collection dates for the district you live in. Only for Zurich.\n",
       "\n",
       ": Years later, ERZ (Entsorgung + Recycling Zurich) came up with a similar service.\n",
       "\n",
       "PSVote\n",
       ": Ideas for extensions are proposed here and all users can vote on them.\n",
       "\n",
       "PublicSecrets was written in ColdFusion and ran on a Windows NT server.\n",
       "\n"
      ],
      "text/plain": [
       "<IPython.core.display.Markdown object>"
      ]
     },
     "metadata": {},
     "output_type": "display_data"
    }
   ],
   "source": [
    "#| echo: false\n",
    "if i < len(projects):\n",
    "    display(Markdown(project_to_markdown(projects[i])))\n",
    "    i += 1\n"
   ]
  },
  {
   "cell_type": "code",
   "execution_count": null,
   "metadata": {},
   "outputs": [],
   "source": [
    "#| echo: false\n",
    "if i < len(projects):\n",
    "    display(Markdown(project_to_markdown(projects[i])))\n",
    "    i += 1\n"
   ]
  },
  {
   "cell_type": "code",
   "execution_count": null,
   "metadata": {},
   "outputs": [],
   "source": [
    "#| echo: false\n",
    "if i < len(projects):\n",
    "    display(Markdown(project_to_markdown(projects[i])))\n",
    "    i += 1\n"
   ]
  },
  {
   "cell_type": "code",
   "execution_count": null,
   "metadata": {},
   "outputs": [],
   "source": [
    "#| echo: false\n",
    "if i < len(projects):\n",
    "    display(Markdown(project_to_markdown(projects[i])))\n",
    "    i += 1\n"
   ]
  },
  {
   "cell_type": "code",
   "execution_count": null,
   "metadata": {},
   "outputs": [],
   "source": [
    "#| hide\n",
    "import nbdev; nbdev.nbdev_export()"
   ]
  },
  {
   "cell_type": "code",
   "execution_count": null,
   "metadata": {},
   "outputs": [],
   "source": []
  }
 ],
 "metadata": {
  "kernelspec": {
   "display_name": "python3",
   "language": "python",
   "name": "python3"
  }
 },
 "nbformat": 4,
 "nbformat_minor": 4
}
