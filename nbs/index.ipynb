{
 "cells": [
  {
   "cell_type": "code",
   "execution_count": null,
   "metadata": {},
   "outputs": [],
   "source": [
    "#| hide\n"
   ]
  },
  {
   "cell_type": "markdown",
   "metadata": {},
   "source": [
    "# matlon GmbH\n",
    "\n",
    "> creativity, technology and innovation"
   ]
  },
  {
   "cell_type": "markdown",
   "metadata": {},
   "source": [
    "As a kid, whenever someone asked what I wanted to be when I grew up, I’d always say, 'an inventor.' Starting October 23, 2024, I'll be documenting an old project every day. So stay tuned and follow me as the website grows!  \n",
    "\n",
    "* 2024-11-08: [WhatsAppChatConverter](/20_whatsapp_converter.ipynb) My father asked me how he could print his WhatsApp chat history with my late brother. I had to realize that this was not possible, and there was no useful free tool to archive or print a chat in a nice format. So, I wrote one.\n",
    "* 2024-11-04:  [batGPT](/10_andri.ipynb#batgpt) Write assessment reports for assistive technologies using AI\n",
    "* 2024-11-03:  [Brainwaver: Pink Noise](/10_andri.ipynb#brainwaver-pink-noise) Nothing but binaural pink noise to get into the flow and focus\n",
    "* 2024-11-02:  [Dino Stampf Deep Learning](/10_andri.ipynb#dino-stampf-deep-learning) Pre-LLM AI generated pseudo-Swiss German lyrics\n",
    "* 2024-11-01:  [VisualMix, 2022](/10_andri.ipynb#visualmix) Mix and arrangement of a song visualized\n",
    "* 2024-10-31:  [gschichtefritz.ch current, 2023 - ](/10_andri.ipynb#gschichtefritz.ch-current) Shop and App backend\n",
    "* 2024-10-30:  [gschichtefritz.ch legacy, 2009 - 2023](/10_andri.ipynb#gschichtefritz.ch-legacy) CRM, shop, CD burner automation, accounting, and more\n",
    "* 2024-10-29:  [Gschichtefritz App, 2020 - ](/10_andri.ipynb#gschichtefritz-app) Gschichtefritz audiobook player app for iOS and Android\n",
    "* 2024-10-28:  [Gschichtefritz, 2009 - ](/10_andri.ipynb#gschichtefritz) Audio stories with songs for children\n",
    "* 2024-10-27:  [Ohr, 1992 - 1994](/10_andri.ipynb#ohr) Ear trainer for musicians\n",
    "* 2024-10-26:  [WiiMIDIi, 2007 - 2008](/10_andri.ipynb#wiimidii) Using a Nintendo Wiimote for guitar motion sensing and converting accelerometer data to MIDI\n",
    "* 2024-10-25:  [Teltax, 1995 - 1999](/10_andri.ipynb#teltax) Dial-In modem costs calculator and splitter\n",
    "* 2024-10-24:  [Patient, 1991 - 1994](/10_andri.ipynb#patient) was the first program I wrote to be used productively: A patient management software for my mom.\n",
    "* 2024-10-23:  [PublicSecrets, 1997 - 2007](/10_andri.ipynb#publicsecrets) was a mix of social networking and productivity platform. \n",
    "<br><br><br><br>"
   ]
  },
  {
   "cell_type": "markdown",
   "metadata": {},
   "source": []
  },
  {
   "cell_type": "code",
   "execution_count": null,
   "metadata": {},
   "outputs": [],
   "source": [
    "#| hide\n",
    "# print current year\n",
    "from datetime import datetime\n",
    "now = datetime.now()\n",
    "year = now.year\n",
    "display(f\"(c) {year}, matlon GmbH\")"
   ]
  },
  {
   "cell_type": "code",
   "execution_count": null,
   "metadata": {},
   "outputs": [],
   "source": []
  }
 ],
 "metadata": {
  "kernelspec": {
   "display_name": "python3",
   "language": "python",
   "name": "python3"
  }
 },
 "nbformat": 4,
 "nbformat_minor": 4
}
