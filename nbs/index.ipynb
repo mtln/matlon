{
 "cells": [
  {
   "cell_type": "code",
   "execution_count": null,
   "metadata": {},
   "outputs": [],
   "source": [
    "#| hide\n"
   ]
  },
  {
   "cell_type": "markdown",
   "metadata": {},
   "source": [
    "# matlon GmbH\n",
    "\n",
    "> creativity, technology and innovation"
   ]
  },
  {
   "cell_type": "markdown",
   "metadata": {},
   "source": [
    "When I was a kid, whenever someone asked what I wanted to be when I grew up, I always said 'an inventor.' Starting today, October 23, 2024, I'll be documenting an old project every day. So stay tuned and follow me as the website grows!\n",
    "\n",
    "\n",
    "* 2024-10-23:  [PublicSecrets, 1997 - 2007](/10_andri.ipynb#publicsecrets) was a mix of social networking and productivity platform. \n",
    "<br><br><br><br>"
   ]
  },
  {
   "cell_type": "markdown",
   "metadata": {},
   "source": [
    "![](under_construction.png)\n",
    "Remember the days when every website had an 'under construction' icon? Let's bring back the nostalgia – but don't worry, this site gets updated daily!"
   ]
  },
  {
   "cell_type": "code",
   "execution_count": null,
   "metadata": {},
   "outputs": [
    {
     "data": {
      "text/plain": [
       "'(c) 2024, matlon GmbH'"
      ]
     },
     "metadata": {},
     "output_type": "display_data"
    }
   ],
   "source": [
    "#| hide\n",
    "# print current year\n",
    "from datetime import datetime\n",
    "now = datetime.now()\n",
    "year = now.year\n",
    "display(f\"(c) {year}, matlon GmbH\")"
   ]
  },
  {
   "cell_type": "code",
   "execution_count": null,
   "metadata": {},
   "outputs": [],
   "source": []
  }
 ],
 "metadata": {
  "kernelspec": {
   "display_name": "python3",
   "language": "python",
   "name": "python3"
  }
 },
 "nbformat": 4,
 "nbformat_minor": 4
}
