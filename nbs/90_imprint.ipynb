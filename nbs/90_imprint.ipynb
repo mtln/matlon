{
 "cells": [
  {
   "cell_type": "markdown",
   "metadata": {},
   "source": [
    "# Imprint\n",
    "> This website belongs to matlon GmbH."
   ]
  },
  {
   "cell_type": "code",
   "execution_count": null,
   "metadata": {},
   "outputs": [],
   "source": [
    "#| default_exp imprint"
   ]
  },
  {
   "cell_type": "markdown",
   "metadata": {},
   "source": [
    "###  Address\n",
    "matlon GmbH\\\n",
    "Rainstrasse 49\\\n",
    "8038 Zürich\n",
    "\n",
    "\n",
    "### Communication\n",
    "E-Mail: info@matlon.ch\n",
    "\n",
    "### Commercial Register\n",
    "Handelsregister des Kantons Zürich, CHE-226.990.458\n",
    "\n",
    "\n",
    "### Disclaimer\n",
    "The operator reserves the right to change the information and offers on this website at any time and without prior notice and is not obligated to update the contained information and offers. He assumes no responsibility for the correctness, accuracy, timeliness, reliability, or completeness of the information. Liability claims for material or immaterial damages arising from access to, use or non-use of the published information, misuse of the connection, or technical disturbances are excluded. Despite careful content control, the operator assumes no liability for the content of external links and content. The respective operators and authors are solely responsible for the embedded or linked content.\n"
   ]
  },
  {
   "cell_type": "code",
   "execution_count": null,
   "metadata": {},
   "outputs": [],
   "source": [
    "#| hide\n",
    "import nbdev; nbdev.nbdev_export()"
   ]
  }
 ],
 "metadata": {
  "kernelspec": {
   "display_name": "python3",
   "language": "python",
   "name": "python3"
  }
 },
 "nbformat": 4,
 "nbformat_minor": 4
}
