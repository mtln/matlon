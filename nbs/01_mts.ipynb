{
 "cells": [
  {
   "cell_type": "markdown",
   "metadata": {},
   "source": [
    "# mts\n",
    "\n",
    "> mts ist ein Web Tool, welches Rechnungen aus einem bestehenden ERP/ERP in das im Schweizer Gesundheitswesen verwendete GeneralInvoice-XML-Format umwandelt und via MediData an die Invalidenversicherung (IV) weiterreicht. Daten-Empfänger für alle IV-Stellen der Schweiz ist die Zentrale Ausgleichsstelle ZAS. \n"
   ]
  },
  {
   "cell_type": "code",
   "execution_count": null,
   "metadata": {},
   "outputs": [],
   "source": [
    "#| default_exp matlon_mts"
   ]
  },
  {
   "cell_type": "code",
   "execution_count": null,
   "metadata": {},
   "outputs": [],
   "source": [
    "#| hide\n",
    "#| echo: false\n",
    "%load_ext autoreload\n",
    "%autoreload 2"
   ]
  },
  {
   "cell_type": "code",
   "execution_count": null,
   "metadata": {},
   "outputs": [],
   "source": [
    "#| hide\n",
    "from nbdev.showdoc import *\n",
    "from IPython.display import Markdown\n",
    "from matlon.model import *\n"
   ]
  },
  {
   "cell_type": "markdown",
   "metadata": {},
   "source": [
    "(Because this is a tool specifically for the Swiss healthcare system, this page is in German instead of English.)"
   ]
  },
  {
   "cell_type": "markdown",
   "metadata": {},
   "source": [
    "## Wozu mts?\n",
    "Zitat von der [ZAS-Website](https://www.zas.admin.ch/zas/de/home/partenaires-et-institutions-/paiement-des-prestations-individuelles-avs-ai/information-a-l-attention-des-fournisseurs-de-prestations.html):\n",
    "\n",
    "> \"Die ZAS strebt langfristig eine fast ausschliesslich elektronische Bearbeitung von Rechnungen für individuelle AHV/IV-Leistungen an.\"\n",
    "\n",
    "Leistungserbringer, deren Software nicht in der Lage ist, Rechnungen in das GeneralInvoice-XML-Format zu exportieren und zu übermitteln, stellt dies vor grosse Herausforderungen. Sie müssen entweder auf eine neue Software umsteigen, oder die Rechnungen nochmals mit allen Details manuell in einem Web-Formular erfassen.\n",
    "\n",
    "Mit __mts__ bietet matlon ein schlankes Tool an, welches alle notwendigen Rechnungsdaten aus dem vorhandenen ERP/ERP exportiert, validiert und in das GeneralInvoice-XML-Format umwandelt. mts orchestriert die anschliessende Übermittlung dieser Daten via MediData-Netz an die ZAS und die Verarbeitung und Quittierung allfälliger Rückweisungs-Meldungen der ZAS / IV-Stellen.\n",
    "\n",
    "Screenshot:\n",
    "![mts Dashboard](mts1.jpg)\n",
    "\n",
    "Die GeneralInvoice TP Rechnungen können auch als PDF heruntergeladen werden. Für Rechnungen aus privaten Aufträgen (die nicht über die IV abgerechnet werden) kann mts auch QR-Einzahlungsscheine generieren.\n",
    "\n",
    "## Welche ERP/ERP-Systeme werden unterstützt?\n",
    "Wir programmieren im Rahmen eines Projekts einen Adapter, der exakt zu Ihrem vorhandenen System und den dortigen Datenstrukturen passt. Das Ziel ist es, dass die bereits vorhandene Software bestmöglich genutzt werden kann und die elektronische Rechnungsstellung gegenüber der IV / ZAS für Sie mit minimalem Zusatzaufwand möglich wird.\n",
    "Für [b-at.ch](https://www.b-at.ch) haben wir beispielsweise einen Adapter geschrieben, der die Daten aus der [Teamleader](https://www.teamleader.eu)-Software exportiert.\n"
   ]
  },
  {
   "cell_type": "markdown",
   "metadata": {},
   "source": [
    "# Diagramme\n",
    "## Sequenzdiagramm\n",
    "```{mermaid}\n",
    "sequenceDiagram\n",
    "    actor User as Benutzer\n",
    "    participant ERP as ERP<br>z.B. Teamleader\n",
    "    participant mts as mts<br>ERP Daten zu generalInvoice XML Format<br>Daten-Konverter Plattform für Leistungsabrechnungen\n",
    "    participant MediData\n",
    "    participant D as Empfänger<br>z.B. IV/ZAS\n",
    "    User->>ERP: Rechnung erstellen\n",
    "    mts->>+ERP: neue Rechnungen abholen\n",
    "    mts->>+mts: Rechnungen validieren und als XML aufbereiten\n",
    "    activate mts\n",
    "    User->>mts: Prüfen und Freigabe\n",
    "    mts->>MediData: Rechnung übermitteln\n",
    "    mts->>ERP: Status-Notiz erstellen\n",
    "    deactivate mts\n",
    "    MediData->>+D: Rechnung weiterreichen\n",
    "    D->>D: Rechnung prüfen, falls abgewiesen: Nachricht\n",
    "    D->>+MediData: Resultat zurückmelden\n",
    "    activate mts\n",
    "    mts->>+MediData: Resultate und Nachrichten abholen\n",
    "    mts->>+ERP: Status-Notiz erstellen\n",
    "    deactivate mts\n",
    "    User->>mts: Nachrichten ansehen und Quittieren\n",
    "```\n",
    "## Statusdiagramm\n",
    "```{mermaid}\n",
    "stateDiagram-v2\n",
    "    [*] --> ignoriert: Ignorieren Aktion\n",
    "    [*] --> registriert: Sync Aktion\n",
    "    registriert --> validiert: Validierung erfolgreich\n",
    "    registriert --> Validierung_fehlgeschlagen: Validierungsfehler\n",
    "    Validierung_fehlgeschlagen --> validiert: Sync Aktion\n",
    "    Validierung_fehlgeschlagen --> ignoriert: Ignorieren Aktion\n",
    "    validiert --> exportiert_zu_MediData: Zu MediData hochladen Aktion\n",
    "    validiert --> validiert: Sync Aktion\n",
    "    validiert --> ignoriert: Ignorieren Aktion\n",
    "    validiert --> Export_zu_MediData_fehlgeschlagen: Zu MediData hochladen Aktion, MediData nicht erreichbar\n",
    "    exportiert_zu_MediData --> akzeptiert: Zahlungseingang\n",
    "    exportiert_zu_MediData --> zurückgewiesen: Antwort oder Notifikation\n",
    "    Export_zu_MediData_fehlgeschlagen --> exportiert_zu_MediData: Zu MediData hochladen Aktion\n",
    "    zurückgewiesen --> [*]: Nachdem Antwort oder Notifikation bestätigt wurde\n",
    "    akzeptiert --> [*]\n",
    "    ignoriert --> [*]\n",
    "    \n",
    "    note right of registriert: temporärer Übergangsstatus\n",
    "    \n",
    "    classDef transient stroke-dasharray: 5 5, fill: white\n",
    "    class registriert transient\n",
    "```\n"
   ]
  },
  {
   "cell_type": "markdown",
   "metadata": {},
   "source": [
    "# Interessiert?\n",
    "Kontaktieren Sie [Andri Krämer](mailto:akraemer@matlon.ch).\n"
   ]
  },
  {
   "cell_type": "markdown",
   "metadata": {},
   "source": [
    "# Nützliche Links\n",
    "- [ZAS Infos zur elektronischen Rechnungsstellung AHV/IV](https://www.zas.admin.ch/zas/de/home/partenaires-et-institutions-/paiement-des-prestations-individuelles-avs-ai/information-a-l-attention-des-fournisseurs-de-prestations/fournisseur_de_prestations.html)\n",
    "- [Forum Datenaustausch: Elektronische Kommunikation im Gesundheitswesen](https://www.forum-datenaustausch.ch/de/)\n",
    "- [MediData](https://www.medidata.ch/md/web/de/)\n",
    "- [b-at AG Beratung assistive Technologien](https://www.b-at.ch) (Referenzkunde)\n"
   ]
  },
  {
   "cell_type": "code",
   "execution_count": null,
   "metadata": {},
   "outputs": [],
   "source": [
    "#| hide\n",
    "import nbdev; nbdev.nbdev_export()"
   ]
  },
  {
   "cell_type": "markdown",
   "metadata": {},
   "source": []
  }
 ],
 "metadata": {
  "kernelspec": {
   "display_name": "python3",
   "language": "python",
   "name": "python3"
  }
 },
 "nbformat": 4,
 "nbformat_minor": 4
}
