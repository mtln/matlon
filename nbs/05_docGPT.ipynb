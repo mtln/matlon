{
 "cells": [
  {
   "cell_type": "markdown",
   "metadata": {},
   "source": [
    "# docGPT\n",
    "> docGPT ist ein AI Web Tool zum Schreiben von Berichten. Basierend auf einer Gliederung in Abschnitte mit zugehöriger fachlichen Stichwort-Hierachie markiert der Nutzer die passenden Checkboxen und gibt zusätzliche Informationen in kurzen Satzfragmenten ein. docGPT generiert dann einen ausformulierten Text, welcher später noch manuell präzisiert werden kann.\n"
   ]
  },
  {
   "cell_type": "code",
   "execution_count": null,
   "metadata": {},
   "outputs": [],
   "source": [
    "#| default_exp matlon_docGPT"
   ]
  },
  {
   "cell_type": "code",
   "execution_count": null,
   "metadata": {},
   "outputs": [],
   "source": [
    "#| hide\n",
    "#| echo: false\n",
    "%load_ext autoreload\n",
    "%autoreload 2"
   ]
  },
  {
   "cell_type": "code",
   "execution_count": null,
   "metadata": {},
   "outputs": [],
   "source": [
    "#| hide\n",
    "from nbdev.showdoc import *\n",
    "from IPython.display import Markdown\n",
    "from matlon.model import *\n"
   ]
  },
  {
   "cell_type": "markdown",
   "metadata": {},
   "source": [
    "[EN](05_docGPT.ipynb#docgpt-en) | [DE](05_docGPT.ipynb#docgpt)"
   ]
  },
  {
   "cell_type": "markdown",
   "metadata": {},
   "source": [
    "## Wozu docGPT?\n",
    "matlon GmbH hat als Pilotprojekt für eine Firma, die im Bereich Assistive Technologien tätig ist, ein AI Web Tool entwickelt, welches das Schreiben von Berichten erleichtert. Das Verfassen eines Berichts ist eine notwendige, aber oft repetitive und zeitaufwändige Aufgabe für Fachleute. Es ist eine Voraussetzung für die Rechnungsstellung gegenüber der IV, bietet jedoch nur wenig direkten Nutzen für den Patienten. Das Ziel ist es, diesen Prozess zu optimieren und zu beschleunigen.\n",
    "\n",
    "Aus diesem Pilotprojekt ist docGPT hervorgegangen, welches für beliebige Fachbereiche und Anwendungsfälle angepasst werden kann. Kunden können eigene Gliederungen und Stichwort-Hierarchien definieren und so das Tool für ihre spezifischen Bedürfnisse anpassen. \n",
    "\n",
    "matlon GmbH bietet docGPT als Software as a Service (SaaS) an. \n",
    "Wir unterstützen Sie mit unserem Wissen im Bereich AI und Prompt Engineering bei der Konfiguration, so dass Sie für Ihren Fachbereich das Optimum aus dem Tool herausholen können.\n",
    "\n",
    "## Vorteile gegenüber ChatGPT\n",
    "docGPT ist speziell für das Schreiben von Berichten konzipiert und bietet daher einige Vorteile gegenüber ChatGPT:\n",
    "\n",
    "- **Geführte Erfassung**: Der Benutzer wird über eine Gliederung in Abschnitte und eine fachliche Stichwort-Hierarchie durch den Erfassungsprozess geführt. So wird sichergestellt, dass alle relevanten Informationen erfasst werden.\n",
    "\n",
    "- **Konsistente Struktur**: Durch die fachspezifische Konfiguration erreichen wir, dass die generierten Dokumente eine konsistente Struktur erhalten.\n",
    "\n",
    "- **Zentrale Datenhaltung und Versionierung**: Die Dokumente werden nach Thema (Fachbereich) und Patient (oder Kunde) gegliedert und versioniert gespeichert. So können sie später einfach wiedergefunden und bei Bedarf angepasst werden.\n",
    "\n",
    "- **Datenschutz**: Anstelle des Patienten- oder Kundennamens werden Platzhalter in der Kommunikation mit der AI verwendet, um die Anonymität zu wahren. Die Kommunikation mit dem LLM (Large Language Model) erfolgt über die OpenAI API. Somit ist auch sichergestellt, dass die übermittelten Daten von OpenAI nicht zu Trainingszwecken weiterverwendet werden (was bei der Nutzung von ChatGPT der Fall wäre).\n",
    "\n",
    "# Interessiert?\n",
    "Kontaktieren Sie [Andri Krämer](mailto:akraemer@matlon.ch).\n"
   ]
  },
  {
   "cell_type": "markdown",
   "metadata": {},
   "source": [
    "# docGPT (EN)\n",
    "> docGPT is an AI web tool for writing reports. Based on an outline divided into sections with a corresponding hierarchy of keywords, the user selects the appropriate checkboxes and enters additional information in short sentence fragments. docGPT then generates a fully formulated text, which can later be manually refined.\n"
   ]
  },
  {
   "cell_type": "markdown",
   "metadata": {},
   "source": []
  },
  {
   "cell_type": "markdown",
   "metadata": {},
   "source": [
    "## Why docGPT?\n",
    "As a pilot project for a company operating in the field of Assistive Technologies, matlon GmbH has developed an AI web tool that simplifies report writing. Writing a report is a necessary but often repetitive and time-consuming task for professionals. It is a prerequisite for invoicing the IV (Invalidity Insurance) but offers little direct benefit to the patient. The goal is to optimize and accelerate this process.\n",
    "\n",
    "From this pilot project, docGPT emerged, which can be adapted for various professional fields and use cases. Customers can define their own outlines and keyword hierarchies to tailor the tool to their specific needs.\n",
    "\n",
    "matlon GmbH offers docGPT as Software as a Service (SaaS).  \n",
    "We support you with our expertise in AI and prompt engineering to help you get the most out of the tool for your specific field.\n",
    "\n",
    "## Advantages over ChatGPT\n",
    "docGPT is specifically designed for report writing and therefore offers several advantages over ChatGPT:\n",
    "\n",
    "- **Guided Input**: The user is guided through the input process via an outline divided into sections and a structured hierarchy of field-specific keywords. This ensures that all relevant information is captured.\n",
    "\n",
    "- **Consistent Structure**: Through domain-specific configuration, we ensure that the generated documents follow a consistent structure.\n",
    "\n",
    "- **Centralized Data Storage and Versioning**: Documents are organized and versioned based on topic (field of expertise) and patient (or client). This allows for easy retrieval and modifications when needed.\n",
    "\n",
    "- **Data Privacy**: Instead of using patient or client names, placeholders are used in communication with the AI to maintain anonymity. The interaction with the LLM (Large Language Model) occurs via the OpenAI API. This ensures that the transmitted data is not used by OpenAI for training purposes (which would be the case when using ChatGPT).\n",
    "\n",
    "# Interested?\n",
    "Contact [Andri Krämer](mailto:akraemer@matlon.ch).\n"
   ]
  },
  {
   "cell_type": "code",
   "execution_count": null,
   "metadata": {},
   "outputs": [],
   "source": [
    "#| hide\n",
    "import nbdev; nbdev.nbdev_export()"
   ]
  },
  {
   "cell_type": "markdown",
   "metadata": {},
   "source": []
  }
 ],
 "metadata": {
  "kernelspec": {
   "display_name": "python3",
   "language": "python",
   "name": "python3"
  }
 },
 "nbformat": 4,
 "nbformat_minor": 4
}
