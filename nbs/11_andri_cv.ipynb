{
 "cells": [
  {
   "cell_type": "markdown",
   "metadata": {},
   "source": [
    "# Andri's CV\n",
    "\n",
    "> Joyfully bound to the endless journey of learning."
   ]
  },
  {
   "cell_type": "code",
   "execution_count": null,
   "metadata": {},
   "outputs": [],
   "source": [
    "#| default_exp andri_cv"
   ]
  },
  {
   "cell_type": "code",
   "execution_count": null,
   "metadata": {},
   "outputs": [],
   "source": [
    "#| hide\n",
    "#| echo: false\n",
    "%load_ext autoreload\n",
    "%autoreload 2"
   ]
  },
  {
   "cell_type": "code",
   "execution_count": null,
   "metadata": {},
   "outputs": [],
   "source": [
    "#| hide\n",
    "from nbdev.showdoc import *\n",
    "from IPython.display import Markdown\n",
    "from matlon.model import *\n"
   ]
  },
  {
   "cell_type": "markdown",
   "metadata": {},
   "source": [
    "## Personal Information\n",
    "\n",
    "- **Name**: Andri Krämer  \n",
    "<small>Well, to be precise: my real name is _Andres_ Krämer. But ever since I was born, everyone has only called me _Andri_. Except maybe for the tax office and the local authorities. In the age of digitalization, this is increasingly becoming a problem, as whenever I have to verify my identity electronically, the name doesn’t match the one on my ID. And if I were to use _Andres_ on LinkedIn, for example, no one would recognize me 🫤.</small>\n",
    "- **Email**: akraemer@matlon.ch  \n",
    "- **Nationality**: Swiss  \n",
    "- **Date of Birth**: 1 August 1973, in Zürich  \n",
    "- **Marital Status**: Married  \n",
    "- **Children**: 3 kids, born 2008, 2010 and 2012\n",
    "\n",
    "## Languages\n",
    "- **German**: Native speaker\n",
    "- **English**: Fluent (spoken and written)\n",
    "- **French**: Good working knowledge\n",
    "\n",
    "## Education\n",
    "- **June/July 2019**: Residency at [D ONE](https://d-one.ai) during sabbatical.\n",
    "- **2016 - today**: Machine Learning and AI with sklearn, TensorFlow, Keras, PyTorch, XGBoost, LLMs, OpenAI API, Langchain and others. Data Science and Analytics with Databricks, MongoDB, Power BI, Python, AWS.\n",
    "- **2001**: Diploma (equivalent to today’s MS) in Computer Science from ETH Zurich. Score: 5.39 (scale 1–6).\n",
    "- **2001**: Diploma thesis at Arsin Corp., San Francisco. Won Hitachi-Motorola-Award for best thesis in Corporate Communication at Eurécom.\n",
    "- **2000**: Final year studies in Corporate Communication at [Institute Eurécom](https://www.eurecom.fr), France for Engineering Degree in Computer Science of ETHZ.\n",
    "- **1995 – 2000**: Degree course in Computer Science at ETH Zurich.\n",
    "- **1993 – 1994**: Jazz School in Lucerne, Switzerland.\n",
    "- **1992**: Matura C (specialized in mathematics and and natural sciences) at MNG Zurich.\n",
    "\n",
    "## Work Experience\n",
    "- **2024 - today**: C*O at matlon GmbH, having fun and working on whatever I like for a few months.\n",
    "- **2009 - 2024**: Senior Software Engineer and Project Manager at [mp technology AG](https://mptechnology.ch):\n",
    "  - Projects for various clients in machine learning, data science, and data analytics. Implementation of projects and support of client teams in the conception and execution of data-based processes and tools. Use of machine learning for revenue optimization in e-commerce systems. Technologies: Python, MongoDB, AWS, Databricks, Power BI\n",
    "  - Online insurance platform for [smile insurances](https://www.smile-insurances.com). Lead developer in a team of up to 5 employees, Project management and client support, solution design, refinement, requirements, and concepts. Comprehensive web application for insurance sales, analytics, and marketing activities for private liability, household, car and motorcycle insurance, travel, legal, and life insurance. Multiple redesigns and technology upgrades.\n",
    "  - Quality Control tool for [SVA Zurich](https://svazurich.ch) (Java/Spring/Vaadin).\n",
    "- **2009 - current**: [Gschichtefritz.ch](/10_andri.ipynb#gschichtefritz). Developed automated publishing and production system for personalized children’s audio stories.\n",
    "- **2008**: Developed software for various non-profit projects, including [on-stage live performance tools](/10_andri.ipynb#wiimidii).\n",
    "- **2007**: Test Manager at SBB, Bern, for an online ticketing project.\n",
    "- **2004 – 2007**: Project Manager and Developer at Penta Group, Zürich. Worked on p-Desk Product Development (Java).\n",
    "- **2002 - 2003**: Designed and implemented security frameworks at Schmid Telecom, Zürich.\n",
    "- **2001**: Six-month thesis project at Arsin Corp., San Francisco (BGP Routing Instability Generator).\n",
    "- **1997 - 1999**: Project Manager at Telenet Inc., St. Gallen.\n",
    "- **1995**: SwissRe, Zürich: Internship and part-time positions.\n",
    "\n",
    "## Academic and Non-profit Projects\n",
    "- **2000**: Eurecom. Developed JPKI, a high-level Java PKI API based on cryptlib, and a Certificate Authority Web Application based on JPKI.\n",
    "- **1999**: ETHZ/TIK. Developed the concept, designed, and implemented SNAP, the Secure Nonlocal Anonymizing Proxy enabling anonymous HTTP and Email communication that cannot be traced within the user’s local environment. Analyzed existing solutions for anonymous communication on the Internet, including Crowds, Onion Routing, Anonymizer, LPWA, and Remailers.\n",
    "- **1997–2007**: Developed [PublicSecrets](/10_andri.ipynb#publicsecrets), a non-profit web collaboration tool and social network portal with integrated email, photo gallery, address book, bookmark store, secure file sharing, event organizer, and shared accounting/bookkeeping.\n",
    "\n",
    "## Other Experience and Interests\n",
    "- **2009–present**: Writing and recording over 70 Swiss-German children's stories with songs under the pseudonym “Gschichtefritz.” Available until 2023 on CD or MP3 with a \"pay if you like it\" model, now as MP3 and APP. Performed live at public events, theatres, and schools.\n",
    "- **2008–present**: Marriage and family life with two sons (born 2008, 2010) and one daughter (born 2012).\n",
    "- **2004–2008**: Composer, arranger, and producer with the Swiss pop duo [Amtsbladt](http://www.amtsbladt.ch), doing CD productions and live concerts.\n",
    "- **Autumn 2003**: Completed a solo bicycle trip spanning over 5500 km across Poland, Slovakia, Hungary, Romania, Bulgaria, Turkey, Greece, Croatia, Slovenia, Italy, and Switzerland.\n",
    "- **1992–1995**: Worked as a guitar teacher, bartender, musician, and postman.\n",
    "- **1988–1996**: Leader of Jungwacht Wollishofen, a boy-scout organization, and instructor for Jugend & Sport Switzerland.\n",
    "\n",
    "**Interests**: Music, Reading, Theatre, Mountain Biking, Hiking\n",
    "\n",
    "\n",
    "\n",
    "\n",
    "\n"
   ]
  },
  {
   "cell_type": "code",
   "execution_count": null,
   "metadata": {},
   "outputs": [],
   "source": [
    "#| hide\n",
    "import nbdev; nbdev.nbdev_export()"
   ]
  },
  {
   "cell_type": "markdown",
   "metadata": {},
   "source": []
  }
 ],
 "metadata": {
  "kernelspec": {
   "display_name": "python3",
   "language": "python",
   "name": "python3"
  }
 },
 "nbformat": 4,
 "nbformat_minor": 4
}
