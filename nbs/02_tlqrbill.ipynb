{
 "cells": [
  {
   "cell_type": "markdown",
   "metadata": {},
   "source": [
    "# tl-qrbill\n",
    "\n",
    "> tl-qrbill generiert Schweizer QR-Einzahlungsscheine für Teamleader Rechnungen."
   ]
  },
  {
   "cell_type": "code",
   "execution_count": null,
   "metadata": {},
   "outputs": [],
   "source": [
    "#| default_exp tlqrbill"
   ]
  },
  {
   "cell_type": "code",
   "execution_count": null,
   "metadata": {},
   "outputs": [],
   "source": [
    "#| hide\n",
    "#| echo: false\n",
    "%load_ext autoreload\n",
    "%autoreload 2"
   ]
  },
  {
   "cell_type": "code",
   "execution_count": null,
   "metadata": {},
   "outputs": [],
   "source": [
    "#| hide\n",
    "from nbdev.showdoc import *\n",
    "from IPython.display import Markdown\n",
    "from matlon.model import *\n"
   ]
  },
  {
   "cell_type": "markdown",
   "metadata": {},
   "source": [
    "(Because this is a tool specifically for Swiss QR Bills, this page is in German instead of English.)"
   ]
  },
  {
   "cell_type": "markdown",
   "metadata": {},
   "source": [
    "## Wozu tl-qrbill?\n",
    "[Teamleader](https://teamleader.eu) ist eine leistungsstarke web-basierte CRM/ERP-Lösung von einem belgischen Software-Anbieter. Sie unterstützt die Rechnungsstellung, jedoch ist die Funktionalität für Schweizer QR-Einzahlungsscheine nicht integriert. Mit tl-qrbill von matlon GmbH können Sie QR-Einzahlungsscheine für Ihre Rechnungen generieren und diese einzeln oder zusammen mit der Rechnung als PDF herunterladen.\n",
    "\n",
    "\n",
    "Screencast:\n",
    "[![YouTube](https://img.youtube.com/vi/ZPCFLG6pDo4/0.jpg)](https://www.youtube.com/watch?v=ZPCFLG6pDo4)\n",
    "\n",
    "Infos:\n",
    "[tl-qrbill.matlon.ch](https://tl-qrbill.matlon.ch/infos)\n"
   ]
  },
  {
   "cell_type": "markdown",
   "metadata": {},
   "source": [
    "# Diagramme\n",
    "## Sequenzdiagramm\n",
    "```{mermaid}\n",
    "sequenceDiagram\n",
    "    actor User as Benutzer\n",
    "    participant CRM as Teamleader\n",
    "    participant sys as tl-qrbill<br>CH QRBill-Einzahlungsscheine PDF<br>für Teamleader Rechnungen generieren\n",
    "    User->>CRM: Rechnung erstellen\n",
    "    activate sys\n",
    "    User->>sys: QR-Bill PDF herunterladen\n",
    "    sys->>CRM: Rechnungsdaten abholen\n",
    "    sys->>sys: Rechnungsdaten validieren\n",
    "    sys->>sys: QR-Bill PDF generieren\n",
    "    sys->>User: QR-Bill PDF\n",
    "    deactivate sys\n",
    "```\n"
   ]
  },
  {
   "cell_type": "markdown",
   "metadata": {},
   "source": [
    "# Nützliche Links\n",
    "- [tl-qrbill.matlon.ch](https://tl-qrbill.matlon.ch/infos)\n",
    "- [Teamleader](https://teamleader.eu)"
   ]
  },
  {
   "cell_type": "code",
   "execution_count": null,
   "metadata": {},
   "outputs": [],
   "source": [
    "#| hide\n",
    "import nbdev; nbdev.nbdev_export()"
   ]
  },
  {
   "cell_type": "markdown",
   "metadata": {},
   "source": []
  }
 ],
 "metadata": {
  "kernelspec": {
   "display_name": "python3",
   "language": "python",
   "name": "python3"
  }
 },
 "nbformat": 4,
 "nbformat_minor": 4
}
