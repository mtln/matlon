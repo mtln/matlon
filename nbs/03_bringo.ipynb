{
 "cells": [
  {
   "cell_type": "markdown",
   "metadata": {},
   "source": [
    "# bringo.ch\n",
    "\n",
    "> bringo ist die perfekte Plattform für 'selbstorganisierende' Events. Wer kommt? Wer bringt was mit? Bringo koordiniert alles. "
   ]
  },
  {
   "cell_type": "code",
   "execution_count": null,
   "metadata": {},
   "outputs": [],
   "source": [
    "#| default_exp bringo"
   ]
  },
  {
   "cell_type": "code",
   "execution_count": null,
   "metadata": {},
   "outputs": [],
   "source": [
    "#| hide\n",
    "#| echo: false\n",
    "%load_ext autoreload\n",
    "%autoreload 2"
   ]
  },
  {
   "cell_type": "code",
   "execution_count": null,
   "metadata": {},
   "outputs": [],
   "source": [
    "#| hide\n",
    "from nbdev.showdoc import *\n",
    "from IPython.display import Markdown\n",
    "from matlon.model import *\n"
   ]
  },
  {
   "cell_type": "markdown",
   "metadata": {},
   "source": [
    "(Because this is a tool for users in Switzerland, this page is in German instead of English.)"
   ]
  },
  {
   "cell_type": "markdown",
   "metadata": {},
   "source": [
    "## Wozu bringo?\n",
    "[Bringo](https://bringo.ch) ist eine Plattform für die Organisation und Verwaltung von Events, zu denen die Teilnehmer etwas mitbringen sollen. Typisches Beispiel: Eine Grillparty. Es braucht fürs Buffet ein paar Salate, Brot, Desserts usw. Jeder sieht, was noch fehlt und wer was bringt. Die Party organisiert sich quasi von alleine. Die erforderlichen Mitbrigsel vervielfachen sich, falls nötig, mit steigender Teilnehmerzahl. Beispiel: Du definierst, dass es pro 12 Personen ein Tenpack alkoholfreies Bier und pro 6 Teilnehmer eine Flasche Rotwein braucht, während ein Kartoffelsalat für 30 reichen wird, weil ja nach der 15. Anmeldung automatisch noch der Pastasalat als Mitbringsel erscheint.\n",
    "\n",
    "Spare Dir das mühsame Hin- und Her-Organisieren per E-Mail oder WhatsApp und das manuelle Up-To-Date-halten eines Excel-Sheets. Verschone Deine Gäste von unübersichtlichen Chat-Gruppen mit zig irrelvanten Nachrichten. \n",
    "Bringo ist einfach zu bedienen und bietet für alle Teilnehmenden eine klare Übersicht, wer kommt und wer was mitbringt.\n",
    "\n",
    "## bringo ist perfekt für:\n",
    "- Grillpartys\n",
    "- Picknicks\n",
    "- Apéros\n",
    "- Siedlungs- und Strassenfeste\n",
    "- Team-Events\n",
    "- Vereinsanlässe\n",
    "- Geburtstagsfeiern\n",
    "- Hochzeiten\n",
    "\n",
    "Für 4 bis 200 Personen.\n",
    "\n",
    "Screenshot:\n",
    "\n",
    "![bringo Teilnehmerliste](bringo_teilnehmer.jpg)\n",
    "\n",
    "\n",
    "### Screencasts\n",
    "#### Für Gäste:\n",
    "\n",
    "[![YouTube](https://img.youtube.com/vi/zfXf1G5iDd4/0.jpg)](https://www.youtube.com/watch?v=zfXf1G5iDd4)\n",
    "\n",
    "#### Für Organisatoren:\n",
    "[![YouTube](https://img.youtube.com/vi/buNd9kWZR2Q/0.jpg)](https://www.youtube.com/watch?v=buNd9kWZR2Q)\n",
    "\n",
    "\n"
   ]
  },
  {
   "cell_type": "markdown",
   "metadata": {},
   "source": [
    "# Features\n",
    "```{mermaid}\n",
    "mindmap\n",
    "  root((bringo.ch))\n",
    "    Event-Organisation\n",
    "      Gegliedert in Altersgruppen\n",
    "      Geschlossene und offene Events\n",
    "      Einladungen\n",
    "      Teilnehmerzahl limitieren\n",
    "      Anmeldeschluss\n",
    "        hart oder weich\n",
    "      Interne Notizen\n",
    "      Absagen oder Verschiebungen\n",
    "    Teilnehmer-Management\n",
    "      Online Anmeldung und Abmeldung\n",
    "        Jederzeit anpassbar\n",
    "        Name oder Nickname wählbar\n",
    "        Handling von Offline-Anmeldungen\n",
    "      Detail-Liste und Statistik\n",
    "      Teilnehmer-Statistik\n",
    "    Mitbringsel-Management\n",
    "      Kategorien\n",
    "        Getränk, Snack, Salat, Speise, Dessert, Sonstiges\n",
    "        Spezielle Kategorien\n",
    "          Job\n",
    "          Geschenk\n",
    "      Dynamische Mitbringsel\n",
    "        Wiederholend pro Anzahl Teilnehmer\n",
    "          Altersgruppenspezifisch, z.B. Bier für Erwachsene, Limonade für Kinder\n",
    "        Ab Anzahl Teilnehmer\n",
    "      Vordefinierte oder eigene, freie Mitbringsel\n",
    "      Detail-Liste und Statistik\n",
    "    Kommunikation\n",
    "      E-Mail-Benachrichtigungen\n",
    "```"
   ]
  },
  {
   "cell_type": "markdown",
   "metadata": {},
   "source": [
    "bringo.ch befindet sich zurzeit noch in einer Beta-Testphase und ist erst einem eingeschränkten Nutzerkreis zugänglich. Wer bereits die Beta-Version nutzen möchte, kann mich kontaktieren.\n",
    "\n",
    "P.S. 1998, vor 27 Jahren hatte ich mit dem Modul 'PSEvent' meines 'Social Networks' [PublicSecrets](/10_andri.ipynb#publicsecrets) schon einmal etwas Ähnliches programmiert. Da es noch niemand anderer gemacht hat, erfinde ich jetzt halt meine Erfindung mit modernerer Web-Technologie und erweitertem Funktionsumfang selber nochmals neu. Denn was gibt es souligeres, als mit einem Tool mit minimalem Aufwand echte Freunde in der realen Welt zusammenzubringen!"
   ]
  },
  {
   "cell_type": "markdown",
   "metadata": {},
   "source": [
    "# Nützliche Links\n",
    "- [Bringo](https://bringo.ch)"
   ]
  },
  {
   "cell_type": "code",
   "execution_count": null,
   "metadata": {},
   "outputs": [],
   "source": [
    "#| hide\n",
    "import nbdev; nbdev.nbdev_export()"
   ]
  },
  {
   "cell_type": "markdown",
   "metadata": {},
   "source": []
  }
 ],
 "metadata": {
  "kernelspec": {
   "display_name": "python3",
   "language": "python",
   "name": "python3"
  }
 },
 "nbformat": 4,
 "nbformat_minor": 4
}
