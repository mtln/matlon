{
 "cells": [
  {
   "cell_type": "markdown",
   "metadata": {},
   "source": [
    "# Model\n",
    "\n",
    "> Data model for the website"
   ]
  },
  {
   "cell_type": "code",
   "execution_count": 4,
   "metadata": {},
   "outputs": [],
   "source": [
    "#| default_exp model"
   ]
  },
  {
   "cell_type": "code",
   "execution_count": 8,
   "metadata": {},
   "outputs": [],
   "source": [
    "#| hide\n",
    "from nbdev.showdoc import *\n",
    "from fastcore.test import *\n",
    "from IPython.display import Markdown\n",
    "from typing import ForwardRef\n",
    "from pydantic import BaseModel"
   ]
  },
  {
   "cell_type": "code",
   "execution_count": 9,
   "metadata": {},
   "outputs": [],
   "source": [
    "Project = ForwardRef('Project')\n",
    "\n",
    "class Project(BaseModel):\n",
    "    title: str\n",
    "    year_start: int\n",
    "    year_end: int| None = None\n",
    "    description: str | None = None\n",
    "    related_projects: list[Project] | None = None"
   ]
  },
  {
   "cell_type": "code",
   "execution_count": 11,
   "metadata": {},
   "outputs": [
    {
     "data": {
      "text/markdown": [
       "{\n",
       "  \"title\": \"My Project\",\n",
       "  \"year_start\": 2021,\n",
       "  \"year_end\": 2022,\n",
       "  \"description\": \"This is my project description\",\n",
       "  \"related_projects\": [\n",
       "    {\n",
       "      \"title\": \"Related Project\",\n",
       "      \"year_start\": 2021,\n",
       "      \"year_end\": 2022,\n",
       "      \"description\": \"This is a related project\",\n",
       "      \"related_projects\": null\n",
       "    }\n",
       "  ]\n",
       "}"
      ],
      "text/plain": [
       "<IPython.core.display.Markdown object>"
      ]
     },
     "execution_count": 11,
     "metadata": {},
     "output_type": "execute_result"
    }
   ],
   "source": [
    "# intantiate a project\n",
    "project = Project(title=\"My Project\", year_start=2021, year_end=2022, description=\"This is my project description\")\n",
    "#instantiate another project\n",
    "related_project = Project(title=\"Related Project\", year_start=2021, year_end=2022, description=\"This is a related project\")\n",
    "# add the related project to the project\n",
    "project.related_projects = [related_project]\n",
    "# display the project\n",
    "Markdown(project.model_dump_json(indent=2))\n"
   ]
  },
  {
   "cell_type": "code",
   "execution_count": null,
   "metadata": {},
   "outputs": [],
   "source": [
    "#| hide\n",
    "import nbdev; nbdev.nbdev_export()"
   ]
  }
 ],
 "metadata": {
  "kernelspec": {
   "display_name": "env",
   "language": "python",
   "name": "python3"
  },
  "language_info": {
   "codemirror_mode": {
    "name": "ipython",
    "version": 3
   },
   "file_extension": ".py",
   "mimetype": "text/x-python",
   "name": "python",
   "nbconvert_exporter": "python",
   "pygments_lexer": "ipython3",
   "version": "3.12.4"
  }
 },
 "nbformat": 4,
 "nbformat_minor": 2
}
